{
 "cells": [
  {
   "cell_type": "code",
   "execution_count": 20,
   "id": "8882e68f-146d-42e2-a704-b8e0c15bcb53",
   "metadata": {},
   "outputs": [
    {
     "name": "stdout",
     "output_type": "stream",
     "text": [
      "+------------+-----+\n",
      "|        word|count|\n",
      "+------------+-----+\n",
      "|         sed|  194|\n",
      "|          in|  164|\n",
      "|        amet|  149|\n",
      "|         sit|  147|\n",
      "|          ut|  140|\n",
      "|        eget|  131|\n",
      "|          id|  127|\n",
      "|          at|  120|\n",
      "|       vitae|  118|\n",
      "|          et|  117|\n",
      "|        nunc|  113|\n",
      "|          eu|  108|\n",
      "|         non|  102|\n",
      "|            |   99|\n",
      "|          ac|   97|\n",
      "|      tellus|   97|\n",
      "|        diam|   95|\n",
      "|     viverra|   95|\n",
      "|        enim|   93|\n",
      "|pellentesque|   93|\n",
      "+------------+-----+\n",
      "only showing top 20 rows\n",
      "\n"
     ]
    }
   ],
   "source": [
    "from pyspark.sql import (\n",
    "    functions,\n",
    "    Row,\n",
    "    SparkSession\n",
    ")\n",
    "\n",
    "spark = SparkSession.builder.appName(\"df_wordcount\").getOrCreate()\n",
    "\n",
    "# # functions.explode(col)\n",
    "# # Returns a new row for each element in the given array or map\n",
    "# explode는 array나 map의 각각의 엘리먼트를 새로운 행으로 만들어서 반환\n",
    "df = spark.createDataFrame([\n",
    "        Row(a=1,\n",
    "            intlist=[1,2,3],\n",
    "            mapfield={\"a\": \"b\"}\n",
    "           )])\n",
    "\n",
    "df.select(functions.explode(df.intlist).alias(\"anInt\")).collect()\n",
    "# # output: [Row(anInt=1), Row(anInt=2), Row(anInt=3)]\n",
    "\n",
    "\n",
    "# functions.split(str, pattern, limit=-1)\n",
    "# Splits str around matches of the given pattern.\n",
    "# spark functions의 split은 str과 pattern그리고 리밋을 받는데 어느정도로 분할을 진행하는지를 나타냄 1은 원문 1개 2는 ' '기준 자른것 두개\n",
    "df = spark.createDataFrame([\n",
    "        Row(word=\"hello world and pyspark\")])\n",
    "df.select(functions.split(df.word, ' ').alias(\"word\")).collect()\n",
    "\n",
    "\n",
    "csv_file_path = \"file:///home/jovyan/work/sample/lorem_ipsum.txt\"\n",
    "df = spark.read.text(csv_file_path)\n",
    "\n",
    "# # save as \"value\"\n",
    "# df.show()\n",
    "\n",
    "words = df.select(\n",
    "    functions.explode(\n",
    "        functions.split(df.value, ' ')).alias(\"word\"))\n",
    "# words.show()\n",
    "word_counts = words.groupBy(\"word\").count().orderBy(functions.col(\"count\").desc())\n",
    "# \n",
    "word_counts.show()"
   ]
  }
 ],
 "metadata": {
  "kernelspec": {
   "display_name": "Python 3 (ipykernel)",
   "language": "python",
   "name": "python3"
  },
  "language_info": {
   "codemirror_mode": {
    "name": "ipython",
    "version": 3
   },
   "file_extension": ".py",
   "mimetype": "text/x-python",
   "name": "python",
   "nbconvert_exporter": "python",
   "pygments_lexer": "ipython3",
   "version": "3.11.6"
  }
 },
 "nbformat": 4,
 "nbformat_minor": 5
}
