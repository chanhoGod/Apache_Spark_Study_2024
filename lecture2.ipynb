{
 "cells": [
  {
   "cell_type": "code",
   "execution_count": null,
   "id": "e676fb43-8573-433d-8934-966148f80ce9",
   "metadata": {},
   "outputs": [],
   "source": [
    "import pyspark\n",
    "\n",
    "test_file = \"file:///home/jovyan/work/sample/word.txt\"\n",
    "\n",
    "# 스파크 클러스터를 실행할 수 있는 기본 단위인 SparkContext를 호출 및 생성\n",
    "sc = pyspark.SparkContext.getOrCreate();\n",
    "\n",
    "# 텍스트 원본 파일 읽어오기\n",
    "# 지정한 파일을 읽어와서 RDD로 생성\n",
    "# RDD는 분산 데이터를 다룰 수 있는 스파크의 기본 구조로 여러 노드에 걸쳐 데이터를 병렬로 처리 가능\n",
    "text_file = sc.textFile(test_file)\n",
    "\n",
    "\n",
    "# FlatMap은 각 줄의 단어를 띄어쓰기로 구분을 하여 여러단어로 분할하고 이것을 하나의 RDD로 평탄화 함\n",
    "# Map은 단어의 형태를 (word, 1)의 튜플의 형태로 변환을 진행\n",
    "# reduceByKey는 키와 밸류값으로 구성된 데이터들을 키값을 기준으로 연산을 진행 여기서는 키에있는 밸류값들을 더함\n",
    "counts = text_file.flatMap(lambda line: line.split(\" \")) \\\n",
    "                    .map(lambda word: (word, 1)) \\\n",
    "                    .reduceByKey(lambda a, b: a + b)\n",
    "W\n",
    "print(counts.collect())"
   ]
  },
  {
   "cell_type": "code",
   "execution_count": null,
   "id": "2560f51d-4bd6-49d3-802e-3ef59e967ea4",
   "metadata": {},
   "outputs": [],
   "source": [
    "%config Completer.use_jedi = False"
   ]
  },
  {
   "cell_type": "code",
   "execution_count": null,
   "id": "ea809534-77ee-4b09-bc72-29febe382483",
   "metadata": {},
   "outputs": [],
   "source": [
    "counts = text_file.flatMap(lambda line : line.split(\" \"))\n",
    "pair = counts.map(lambda word: (word, 1))\n",
    "sum = pair.reduceByKey(lambda a,b : a + b)\n",
    "print(sum.collect())\n",
    "# print(counts.collect())"
   ]
  },
  {
   "cell_type": "code",
   "execution_count": null,
   "id": "a90cb440-3e6b-480d-b4e8-9e2bf5353a91",
   "metadata": {},
   "outputs": [],
   "source": []
  }
 ],
 "metadata": {
  "kernelspec": {
   "display_name": "Python 3 (ipykernel)",
   "language": "python",
   "name": "python3"
  },
  "language_info": {
   "codemirror_mode": {
    "name": "ipython",
    "version": 3
   },
   "file_extension": ".py",
   "mimetype": "text/x-python",
   "name": "python",
   "nbconvert_exporter": "python",
   "pygments_lexer": "ipython3",
   "version": "3.11.6"
  }
 },
 "nbformat": 4,
 "nbformat_minor": 5
}
