{
 "cells": [
  {
   "cell_type": "code",
   "execution_count": 16,
   "id": "94c747cd-0239-4d57-b126-000081ee710e",
   "metadata": {},
   "outputs": [
    {
     "ename": "SyntaxError",
     "evalue": "invalid syntax (3447338449.py, line 8)",
     "output_type": "error",
     "traceback": [
      "\u001b[0;36m  Cell \u001b[0;32mIn[16], line 8\u001b[0;36m\u001b[0m\n\u001b[0;31m    from pyspark.sql.functions\u001b[0m\n\u001b[0m                              ^\u001b[0m\n\u001b[0;31mSyntaxError\u001b[0m\u001b[0;31m:\u001b[0m invalid syntax\n"
     ]
    }
   ],
   "source": [
    "from pyspark.sql import (\n",
    "    functions as f,\n",
    "    Row,\n",
    "    SparkSession,\n",
    "    types as t\n",
    ")\n",
    "\n",
    "from pyspark.sql.functions import(\n",
    "    round as rnd\n",
    ")\n",
    "\n",
    "spark = SparkSession.builder.appName(\"df_struct\").getOrCreate()\n",
    "\n",
    "# types.StructField(name, dataType, nullable=True, metadata=None)\n",
    "# pyspark 모듈에 types라는 기능이 있음 StructType을 선언해 테이블 선언을 할 수 있음\n",
    "# 이름, 데이터 타입, null가능 여부, \n",
    "table_schema = t.StructType([\n",
    "    t.StructField(\"country\", t.StringType(), True),\n",
    "    t.StructField(\"temperature\", t.FloatType(), True),\n",
    "    t.StructField(\"observed_date\", t.StringType(), True)])\n",
    "\n",
    "# csv 파일을 불러옴녀서 지정한 스키마를 적용할 수 있음\n",
    "csv_file_path = \"file:///home/jovyan/work/sample/temp_with_date.csv\"\n",
    "df = spark.read.schema(table_schema).csv(csv_file_path)\n",
    "# df.printSchema()\n",
    "\n",
    "data = df.select(\"country\", \"temperature\", \"observed_date\")\n",
    "\n",
    "min_temperature = data.groupBy(\"country\").min(\"temperature\")\n",
    "\n",
    "# min_temperature.show()\n",
    "\n",
    "# # celsius to fahrenheit: (0°C × 9/5) + 32 \n",
    "# withColumn은 컬럼 하나를 새로 add하거나 replace할때 사용한다.\n",
    "f_temperature = data.withColumn(\n",
    "                    \"temperature\",\n",
    "                    (f.col(\"temperature\") * 9 / 5) + 32)\\\n",
    "                .select(\"country\", \"temperature\")\n",
    "\n",
    "# f_temperature = data.select(\"country\", \"temperature\", rnd((f.col(\"temperature\") * 9 / 5) + 32, 2))\n",
    "\n",
    "f_temperature.show()\n"
   ]
  }
 ],
 "metadata": {
  "kernelspec": {
   "display_name": "Python 3 (ipykernel)",
   "language": "python",
   "name": "python3"
  },
  "language_info": {
   "codemirror_mode": {
    "name": "ipython",
    "version": 3
   },
   "file_extension": ".py",
   "mimetype": "text/x-python",
   "name": "python",
   "nbconvert_exporter": "python",
   "pygments_lexer": "ipython3",
   "version": "3.11.6"
  }
 },
 "nbformat": 4,
 "nbformat_minor": 5
}
