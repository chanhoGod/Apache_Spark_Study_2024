{
 "cells": [
  {
   "cell_type": "code",
   "execution_count": 6,
   "id": "38c6c5b4-5670-4f15-9be0-ffccdb13431d",
   "metadata": {},
   "outputs": [
    {
     "name": "stdout",
     "output_type": "stream",
     "text": [
      "[(10000, 4), (40000, 7), (5000, 7), (4000, 2), (9000, 4), (8000, 9)]\n"
     ]
    }
   ],
   "source": [
    "import pyspark\n",
    "\n",
    "sc = pyspark.SparkContext.getOrCreate();\n",
    "test_file = \"file:///home/jovyan/work/sample/house_price.csv\"\n",
    "\n",
    "def parse_line(line: str):\n",
    "    city, price, count = line.split(',')\n",
    "    return (int(price), int(count))\n",
    "\n",
    "lines = sc.textFile(test_file)\n",
    "price_count = lines.map(parse_line)\n",
    "# 결과 = [(10000, 3), (10000, 5), (40000, 7), (5000, 7), (4000, 2), (9000, 4), (5000, 7), (4000, 2), (8000, 9)]  \n",
    "\n",
    "sum_of_count = price_count.mapValues(lambda count: (count, 1))\\\n",
    "                .reduceByKey(lambda a, b: (int(a[0]) + int(b[0]), int(a[1]) + int(b[1])))\n",
    "\n",
    "# ('10000', (3, 1)), ('10000', (5, 1)) ...\n",
    "# [('10000', (8, 2)), ('4000', (4, 2)), ('9000', ('4', 1)), ('8000', ('9', 1)), ('40000', ('7', 1)), ('5000', (14, 2))]\n",
    "\n",
    "avg_by_count = sum_of_count.mapValues(lambda total_count: int(total_count[0]) / total_count[1])\n",
    "results = avg_by_count.collect()\n",
    "print(results)\n"
   ]
  },
  {
   "cell_type": "code",
   "execution_count": 14,
   "id": "1548c3ba-4b3b-41a6-9abf-c5224d0d5e15",
   "metadata": {},
   "outputs": [
    {
     "name": "stdout",
     "output_type": "stream",
     "text": [
      "[(10000, (3, 1)), (10000, (5, 1)), (40000, (7, 1)), (5000, (7, 1)), (4000, (2, 1)), (9000, (4, 1)), (5000, (7, 1)), (4000, (2, 1)), (8000, (9, 1))]\n",
      "[(10000, (8, 2)), (40000, (7, 1)), (5000, (14, 2)), (4000, (4, 2)), (9000, (4, 1)), (8000, (9, 1))]\n",
      "[(10000, 4), (40000, 7), (5000, 7), (4000, 2), (9000, 4), (8000, 9)]\n"
     ]
    }
   ],
   "source": [
    "test_price = price_count.mapValues(lambda count:(count, 1))\n",
    "print(test_price.collect())\n",
    "\n",
    "reduce_price = test_price.reduceByKey(lambda a, b: (int(a[0]) + int(b[0]), int(a[1]) + int(b[1])))\n",
    "print(reduce_price.collect())\n",
    "\n",
    "ave_price = reduce_price.mapValues(lambda total_count: int(total_count[0]) / total_count[1])\n",
    "results = avg_by_count.collect()\n",
    "print(results)\n"
   ]
  }
 ],
 "metadata": {
  "kernelspec": {
   "display_name": "Python 3 (ipykernel)",
   "language": "python",
   "name": "python3"
  },
  "language_info": {
   "codemirror_mode": {
    "name": "ipython",
    "version": 3
   },
   "file_extension": ".py",
   "mimetype": "text/x-python",
   "name": "python",
   "nbconvert_exporter": "python",
   "pygments_lexer": "ipython3",
   "version": "3.11.6"
  }
 },
 "nbformat": 4,
 "nbformat_minor": 5
}
