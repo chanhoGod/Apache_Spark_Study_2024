{
 "cells": [
  {
   "cell_type": "code",
   "execution_count": 11,
   "id": "690cb4ff-dc24-4003-8a44-20002e61fbba",
   "metadata": {},
   "outputs": [
    {
     "name": "stdout",
     "output_type": "stream",
     "text": [
      "+--------------------+-----+\n",
      "|             country|count|\n",
      "+--------------------+-----+\n",
      "|Palestinian Terri...|    5|\n",
      "|             Ecuador|    4|\n",
      "|          Madagascar|    3|\n",
      "|   Brunei Darussalam|    3|\n",
      "|               Niger|    3|\n",
      "|    Pitcairn Islands|    3|\n",
      "|             Hungary|    3|\n",
      "|                Mali|    3|\n",
      "|             Andorra|    3|\n",
      "|             Tunisia|    3|\n",
      "|              Zambia|    3|\n",
      "|              Israel|    2|\n",
      "|              Malawi|    2|\n",
      "|          Martinique|    2|\n",
      "|        Cook Islands|    2|\n",
      "|               Haiti|    2|\n",
      "|           Australia|    2|\n",
      "|              Jersey|    2|\n",
      "|       Guinea-Bissau|    2|\n",
      "|Saint Pierre and ...|    2|\n",
      "+--------------------+-----+\n",
      "only showing top 20 rows\n",
      "\n"
     ]
    },
    {
     "name": "stderr",
     "output_type": "stream",
     "text": [
      "----------------------------------------\n",
      "Exception occurred during processing of request from ('127.0.0.1', 39054)\n",
      "Traceback (most recent call last):\n",
      "  File \"/opt/conda/lib/python3.11/socketserver.py\", line 317, in _handle_request_noblock\n",
      "    self.process_request(request, client_address)\n",
      "  File \"/opt/conda/lib/python3.11/socketserver.py\", line 348, in process_request\n",
      "    self.finish_request(request, client_address)\n",
      "  File \"/opt/conda/lib/python3.11/socketserver.py\", line 361, in finish_request\n",
      "    self.RequestHandlerClass(request, client_address, self)\n",
      "  File \"/opt/conda/lib/python3.11/socketserver.py\", line 755, in __init__\n",
      "    self.handle()\n",
      "  File \"/usr/local/spark/python/pyspark/accumulators.py\", line 295, in handle\n",
      "    poll(accum_updates)\n",
      "  File \"/usr/local/spark/python/pyspark/accumulators.py\", line 267, in poll\n",
      "    if self.rfile in r and func():\n",
      "                           ^^^^^^\n",
      "  File \"/usr/local/spark/python/pyspark/accumulators.py\", line 271, in accum_updates\n",
      "    num_updates = read_int(self.rfile)\n",
      "                  ^^^^^^^^^^^^^^^^^^^^\n",
      "  File \"/usr/local/spark/python/pyspark/serializers.py\", line 596, in read_int\n",
      "    raise EOFError\n",
      "EOFError\n",
      "----------------------------------------\n"
     ]
    }
   ],
   "source": [
    "from pyspark.sql import (\n",
    "    Row,\n",
    "    SparkSession)\n",
    "from pyspark.sql.functions import col, asc, desc\n",
    "\n",
    "def parse_line(line: str):\n",
    "    fields = line.split('|') # /\n",
    "    # Row에는 키 이름을 넣어주고 값을 넣어주면 됨\n",
    "    return Row(\n",
    "        name = str(fields[0]),\n",
    "        country = str(fields[1]),\n",
    "        email = str(fields[2]),\n",
    "        compensation=int(fields[3]))\n",
    "\n",
    "\n",
    "spark = SparkSession.builder.appName(\"SparkSQL\").getOrCreate()\n",
    "lines = spark.sparkContext.textFile(\"file:///home/jovyan/work/sample/income.txt\")\n",
    "income_data = lines.map(parse_line)\n",
    "\n",
    "\n",
    "\n",
    "# Creates a DataFrame from an RDD, a list or a pandas.DataFrame.\n",
    "# SparkSession.createDataFrame(data, schema=None, samplingRatio=None, verifySchema=True)[source]\n",
    "# cache()는 데이터를 메모리에 올리는 기능\n",
    "schema_income = spark.createDataFrame(data=income_data).cache()\n",
    "\n",
    "# Creates or replaces a local temporary view with this DataFrame.\n",
    "# 가져온 스파크 SQL 데이터에 테이블 이름같이 이름을 붙여줌\n",
    "schema_income.createOrReplaceTempView(\"income\")\n",
    "\n",
    "# returns the dataframe\n",
    "medium_income_df = spark.sql(\n",
    "    \"SELECT * FROM income WHERE compensation >= 70000 AND compensation <= 100000\")\n",
    "# medium_income_df.show()\n",
    "\n",
    "# show를 사용해서 데이터들을 일부 볼수도 있고 collect()를 통해서 모든 데이터를 불러올 수도 있음\n",
    "# for income_data in medium_income_df.collect():\n",
    "#     print(income_data)\n",
    "    # print(income_data.name)\n",
    "\n",
    "# # use function instead of sql function\n",
    "medium_income_df.groupBy(\"country\").count().orderBy(col(\"count\").desc()).show()"
   ]
  }
 ],
 "metadata": {
  "kernelspec": {
   "display_name": "Python 3 (ipykernel)",
   "language": "python",
   "name": "python3"
  },
  "language_info": {
   "codemirror_mode": {
    "name": "ipython",
    "version": 3
   },
   "file_extension": ".py",
   "mimetype": "text/x-python",
   "name": "python",
   "nbconvert_exporter": "python",
   "pygments_lexer": "ipython3",
   "version": "3.11.6"
  }
 },
 "nbformat": 4,
 "nbformat_minor": 5
}
