{
 "cells": [
  {
   "cell_type": "raw",
   "id": "36361d18-0d8d-4360-a79f-e38afb445f17",
   "metadata": {},
   "source": []
  },
  {
   "cell_type": "code",
   "execution_count": 4,
   "id": "afd3a7a8-2714-4797-ac3d-9df31feceac1",
   "metadata": {},
   "outputs": [
    {
     "name": "stdout",
     "output_type": "stream",
     "text": [
      "90 : 2\n",
      "70 : 1\n",
      "80 : 1\n",
      "100 : 1\n"
     ]
    }
   ],
   "source": [
    "import collections\n",
    "import pyspark\n",
    "\n",
    "\n",
    "test_file = \"file:///home/jovyan/work/sample/grade.txt\"\n",
    "# sc = pyspark.SparkContext('local[*]')\n",
    "sc = pyspark.SparkContext.getOrCreate();\n",
    "\n",
    "text_file = sc.textFile(test_file)\n",
    "\n",
    "grade = text_file.map(lambda line : line.split(\" \")[1])\n",
    "\n",
    "grade_count = grade.countByValue()\n",
    "\n",
    "for grade, count in sorted(grade_count.items(), key=lambda item: item[1], reverse=True):\n",
    "    print(f\"{grade} : {count}\")\n",
    "\n"
   ]
  },
  {
   "cell_type": "code",
   "execution_count": null,
   "id": "aa21fa4c-362c-4ba4-8b63-3cab51ebb2ed",
   "metadata": {},
   "outputs": [],
   "source": []
  }
 ],
 "metadata": {
  "kernelspec": {
   "display_name": "Python 3 (ipykernel)",
   "language": "python",
   "name": "python3"
  },
  "language_info": {
   "codemirror_mode": {
    "name": "ipython",
    "version": 3
   },
   "file_extension": ".py",
   "mimetype": "text/x-python",
   "name": "python",
   "nbconvert_exporter": "python",
   "pygments_lexer": "ipython3",
   "version": "3.11.6"
  }
 },
 "nbformat": 4,
 "nbformat_minor": 5
}
