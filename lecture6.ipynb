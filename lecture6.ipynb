{
 "cells": [
  {
   "cell_type": "code",
   "execution_count": 1,
   "id": "b530c552-0ab8-45aa-9d2c-d0a6472af014",
   "metadata": {},
   "outputs": [
    {
     "name": "stdout",
     "output_type": "stream",
     "text": [
      "Auckland: 49.856\n",
      "Canoas: 50.009\n",
      "Cape Town: 49.9946\n",
      "Hamilton: 44.564\n",
      "Kherson: 7.0952\n",
      "Kiev: 2.85619999999999\n",
      "Lvov: 7.1726\n",
      "Marseille: 39.3908\n",
      "Odesa: 14.8838\n",
      "Stockholm: 13.3988\n",
      "Wroclaw: 9.167\n",
      "NA: 12.4682\n",
      "Brasília: 62.9744\n",
      "Johannesburg: 42.1772\n",
      "Paris: 25.0232\n",
      "Tokyo: 29.156\n",
      "Tottori: 34.2518\n",
      "Uppsala: 6.0494\n",
      "Warsaw: 6.8\n"
     ]
    }
   ],
   "source": [
    "# filter\n",
    "# Return a new RDD containing only the elements that satisfy a predicate.\n",
    "\n",
    "import pyspark\n",
    "\n",
    "sc = pyspark.SparkContext.getOrCreate();\n",
    "test_file = \"file:///home/jovyan/work/sample/temperature.csv\"\n",
    "\n",
    "def get_data(line, header):\n",
    "    if line != header:\n",
    "        col = line.split(',')\n",
    "        city = col[6].strip(\"\\\"\")\n",
    "        avg_temp_fahr = col[4]\n",
    "        yield (city, avg_temp_fahr)\n",
    "\n",
    "lines = sc.textFile(test_file)\n",
    "\n",
    "# get header string\n",
    "# 헤더는 첫번째 라인, flatmap을 통해서 값을 가져올때 헤더는 제외하고 값을 가져오게 함\n",
    "header = lines.first()\n",
    "\n",
    "\n",
    "parsed_line = lines.flatMap(lambda line: get_data(line, header))\n",
    "\n",
    "# filter NA values\n",
    "# 필터는 키와 밸류를 둘다 사용하는듯 보임 그래서 튜플의 값중 x[1]번째 값을 가지고 비교를 함\n",
    "filtered_line = parsed_line.filter(lambda x: \"NA\" not in x[1])\n",
    "\n",
    "# finding min temperature\n",
    "# 튜플의 값중 0번째 있는 값을 키로 만들어서 키를 기준으로 가장 작은 값을 구하는 내용\n",
    "min_temp = filtered_line.reduceByKey(lambda x, y: min(float(x), float(y)))\n",
    "final_list = min_temp.collect();\n",
    "for city, temperature in final_list:\n",
    "    print(f\"{city}: {temperature}\")\n",
    "\n",
    "# print(\"------------------\")\n",
    "# # finding max temperature\n",
    "# min_temp = filtered_line.reduceByKey(lambda x, y: max(float(x), float(y)))\n",
    "# final_list = min_temp.collect();\n",
    "# for city, temperature in final_list:\n",
    "#     print(f\"{city}: {temperature}\")"
   ]
  }
 ],
 "metadata": {
  "kernelspec": {
   "display_name": "Python 3 (ipykernel)",
   "language": "python",
   "name": "python3"
  },
  "language_info": {
   "codemirror_mode": {
    "name": "ipython",
    "version": 3
   },
   "file_extension": ".py",
   "mimetype": "text/x-python",
   "name": "python",
   "nbconvert_exporter": "python",
   "pygments_lexer": "ipython3",
   "version": "3.11.6"
  }
 },
 "nbformat": 4,
 "nbformat_minor": 5
}
