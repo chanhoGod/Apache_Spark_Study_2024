{
 "cells": [
  {
   "cell_type": "code",
   "execution_count": 1,
   "id": "373bf6a6-69a8-4da1-ac24-c3bc831df51b",
   "metadata": {},
   "outputs": [
    {
     "ename": "NameError",
     "evalue": "name 'rdd' is not defined",
     "output_type": "error",
     "traceback": [
      "\u001b[0;31m---------------------------------------------------------------------------\u001b[0m",
      "\u001b[0;31mNameError\u001b[0m                                 Traceback (most recent call last)",
      "Cell \u001b[0;32mIn[1], line 5\u001b[0m\n\u001b[1;32m      1\u001b[0m \u001b[38;5;28;01mimport\u001b[39;00m \u001b[38;5;21;01mpyspark\u001b[39;00m\n\u001b[1;32m      3\u001b[0m sc \u001b[38;5;241m=\u001b[39m pyspark\u001b[38;5;241m.\u001b[39mSparkContext\u001b[38;5;241m.\u001b[39mgetOrCreate()\n\u001b[0;32m----> 5\u001b[0m total_by_brand \u001b[38;5;241m=\u001b[39m \u001b[43mrdd\u001b[49m\u001b[38;5;241m.\u001b[39mmap(\u001b[38;5;28;01mlambda\u001b[39;00m brand: (brand, \u001b[38;5;241m1\u001b[39m))\n\u001b[1;32m      7\u001b[0m \u001b[38;5;28;01mfrom\u001b[39;00m \u001b[38;5;21;01moperator\u001b[39;00m \u001b[38;5;28;01mimport\u001b[39;00m add\n\u001b[1;32m      8\u001b[0m rdd \u001b[38;5;241m=\u001b[39m sc\u001b[38;5;241m.\u001b[39mparallelize([(\u001b[38;5;124m\"\u001b[39m\u001b[38;5;124ma\u001b[39m\u001b[38;5;124m\"\u001b[39m, \u001b[38;5;241m1\u001b[39m), (\u001b[38;5;124m\"\u001b[39m\u001b[38;5;124mb\u001b[39m\u001b[38;5;124m\"\u001b[39m, \u001b[38;5;241m1\u001b[39m), (\u001b[38;5;124m\"\u001b[39m\u001b[38;5;124ma\u001b[39m\u001b[38;5;124m\"\u001b[39m, \u001b[38;5;241m1\u001b[39m)])\n",
      "\u001b[0;31mNameError\u001b[0m: name 'rdd' is not defined"
     ]
    }
   ],
   "source": [
    "import pyspark\n",
    "\n",
    "sc = pyspark.SparkContext.getOrCreate()\n",
    "\n",
    "# rdd.map() 키와 밸류값을 Rdd로 만듬 \n",
    "total_by_brand = rdd.map(lambda brand: (brand, 1))\n",
    "\n",
    "\n",
    "# rdd.reduceByKey() 키별로 밸류를 머지할 수 있음\n",
    "from operator import add\n",
    "rdd = sc.parallelize([(\"a\", 1), (\"b\", 1), (\"a\", 1)])\n",
    "sorted(rdd.reduceByKey(add).collect())\n",
    "[(\"a\", 2), (\"b\", 1)]\n",
    "\n",
    "# groupByKey()\n",
    "# mapValues는 값을 매핑할 타입이나 적용할 함수를 지정해 주는것. \n",
    "# len을 하게되면 해당 문자열의 길이를 밸류로 매핑해주고 list의 경우 각각의 키에 대한 밸류값들을 리스트로 묶어줌\n",
    "rdd = sc.parallelize([(\"a\", 1), (\"b\", 1), (\"a\", 1)])\n",
    "sorted(rdd.groupByKey().mapValues(len).collect())\n",
    "[(\"a\", 2), (\"b\", 1)]\n",
    "sorted(rdd.groupByKey().mapValues(list).collect())\n",
    "[(\"a\", [1, 1]), (\"b\", [1])]\n",
    "\n",
    "# sortByKey() 키를 중심으로 소팅 작업을 진행함 \n",
    "tmp = [(\"a\", 1), (\"b\", 2), (\"1\", 3), (\"d\", 4), (\"2\", 5)]\n",
    "sc.parallelize(tmp).sortByKey().first()\n",
    "\n"
   ]
  },
  {
   "cell_type": "code",
   "execution_count": null,
   "id": "74b4645b-ba23-49df-82f9-a3eb53414175",
   "metadata": {},
   "outputs": [],
   "source": []
  }
 ],
 "metadata": {
  "kernelspec": {
   "display_name": "Python 3 (ipykernel)",
   "language": "python",
   "name": "python3"
  },
  "language_info": {
   "codemirror_mode": {
    "name": "ipython",
    "version": 3
   },
   "file_extension": ".py",
   "mimetype": "text/x-python",
   "name": "python",
   "nbconvert_exporter": "python",
   "pygments_lexer": "ipython3",
   "version": "3.11.6"
  }
 },
 "nbformat": 4,
 "nbformat_minor": 5
}
