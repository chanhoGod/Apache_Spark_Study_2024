{
 "cells": [
  {
   "cell_type": "code",
   "execution_count": null,
   "id": "0da4cf1b-0550-4e9e-90e6-9e2ad89b37f9",
   "metadata": {},
   "outputs": [],
   "source": [
    "from pyspark.sql import (\n",
    "    functions as f,\n",
    "    SparkSession,\n",
    "    types as t\n",
    ")\n",
    "\n",
    "spark = SparkSession.builder.appName(\"df_total\").getOrCreate()\n",
    "table_schema = t.StructType([\n",
    "    t.StructField(\"customer_name\", t.StringType(), True),\n",
    "    t.StructField(\"product_id\", t.IntegerType(), True),\n",
    "    t.StructField(\"price\", t.IntegerType(), True)])\n",
    "\n",
    "csv_file_path = \"file:///home/jovyan/work/sample/product.csv\"\n",
    "df = spark.read.schema(table_schema).csv(csv_file_path)\n",
    "\n",
    "customer_spent = df.groupBy(\"customer_name\")\\\n",
    "                    .agg(\n",
    "                        f.round(\n",
    "                            f.sum(\"price\"),\n",
    "                            2\n",
    "                        ).alias(\"cost\"))\n",
    "                    \n",
    "# customer_spent.show()\n",
    "\n",
    "sorted_customer_spent = customer_spent.orderBy(f.col(\"cost\").desc())\n",
    "\n",
    "sorted_customer_spent.show()\n",
    "                                            "
   ]
  }
 ],
 "metadata": {
  "kernelspec": {
   "display_name": "Python 3 (ipykernel)",
   "language": "python",
   "name": "python3"
  },
  "language_info": {
   "codemirror_mode": {
    "name": "ipython",
    "version": 3
   },
   "file_extension": ".py",
   "mimetype": "text/x-python",
   "name": "python",
   "nbconvert_exporter": "python",
   "pygments_lexer": "ipython3",
   "version": "3.11.6"
  }
 },
 "nbformat": 4,
 "nbformat_minor": 5
}
